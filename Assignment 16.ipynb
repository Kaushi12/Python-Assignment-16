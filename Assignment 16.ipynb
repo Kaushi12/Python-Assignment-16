{
 "cells": [
  {
   "cell_type": "code",
   "execution_count": 3,
   "id": "41eac785",
   "metadata": {},
   "outputs": [],
   "source": [
    "def shutter(word):\n",
    "    ans=''\n",
    "    ans=ans+word[0:2]+'...'+' '+word[0:2]+'...'+' '+word+'?'\n",
    "    return ans\n",
    "        \n",
    "        "
   ]
  },
  {
   "cell_type": "code",
   "execution_count": 4,
   "id": "6bdde629",
   "metadata": {},
   "outputs": [
    {
     "data": {
      "text/plain": [
       "'in... in... incredible?'"
      ]
     },
     "execution_count": 4,
     "metadata": {},
     "output_type": "execute_result"
    }
   ],
   "source": [
    "shutter(\"incredible\")"
   ]
  },
  {
   "cell_type": "code",
   "execution_count": 9,
   "id": "f4e162d7",
   "metadata": {},
   "outputs": [],
   "source": [
    "def radians_to_degree(rad):\n",
    "    degree=rad*(57.2958)\n",
    "    return round(degree,1)"
   ]
  },
  {
   "cell_type": "code",
   "execution_count": 10,
   "id": "888b0b4e",
   "metadata": {},
   "outputs": [
    {
     "data": {
      "text/plain": [
       "1145.9"
      ]
     },
     "execution_count": 10,
     "metadata": {},
     "output_type": "execute_result"
    }
   ],
   "source": [
    "radians_to_degree(20)"
   ]
  },
  {
   "cell_type": "code",
   "execution_count": 11,
   "id": "a40c13d3",
   "metadata": {},
   "outputs": [],
   "source": [
    "def is_curzon(num):\n",
    "    fir=(2**num)+1\n",
    "    sec=(2*num)+1\n",
    "    if fir%sec==0:\n",
    "        print(\"True\")\n",
    "    else:\n",
    "        print(\"False\")"
   ]
  },
  {
   "cell_type": "code",
   "execution_count": 13,
   "id": "73c55114",
   "metadata": {},
   "outputs": [
    {
     "name": "stdout",
     "output_type": "stream",
     "text": [
      "False\n"
     ]
    }
   ],
   "source": [
    "is_curzon(10)"
   ]
  },
  {
   "cell_type": "code",
   "execution_count": 16,
   "id": "585d5e73",
   "metadata": {},
   "outputs": [],
   "source": [
    "import math\n",
    "def area_of_hexagon(side):\n",
    "    area=(3*(math.sqrt(3))*(side**2))/2\n",
    "    return round(area,1)"
   ]
  },
  {
   "cell_type": "code",
   "execution_count": 18,
   "id": "24fa81b6",
   "metadata": {},
   "outputs": [
    {
     "data": {
      "text/plain": [
       "10.4"
      ]
     },
     "execution_count": 18,
     "metadata": {},
     "output_type": "execute_result"
    }
   ],
   "source": [
    "area_of_hexagon(2)"
   ]
  },
  {
   "cell_type": "code",
   "execution_count": 29,
   "id": "985a0396",
   "metadata": {},
   "outputs": [],
   "source": [
    "import math\n",
    "def binary(decimal):\n",
    "    result = \"\"\n",
    "    if (decimal == 0):\n",
    "        result = \"0\"\n",
    "  \n",
    "    while (decimal > 0): \n",
    "        result += str(decimal % 2)\n",
    "        decimal = math.floor(decimal/2)\n",
    "    result.split()\n",
    "    return result[::-1].join(\"\")\n"
   ]
  },
  {
   "cell_type": "code",
   "execution_count": 30,
   "id": "eff6ce2e",
   "metadata": {},
   "outputs": [
    {
     "data": {
      "text/plain": [
       "''"
      ]
     },
     "execution_count": 30,
     "metadata": {},
     "output_type": "execute_result"
    }
   ],
   "source": [
    "binary(1)"
   ]
  },
  {
   "cell_type": "code",
   "execution_count": null,
   "id": "0b2fd872",
   "metadata": {},
   "outputs": [],
   "source": []
  }
 ],
 "metadata": {
  "kernelspec": {
   "display_name": "Python 3",
   "language": "python",
   "name": "python3"
  },
  "language_info": {
   "codemirror_mode": {
    "name": "ipython",
    "version": 3
   },
   "file_extension": ".py",
   "mimetype": "text/x-python",
   "name": "python",
   "nbconvert_exporter": "python",
   "pygments_lexer": "ipython3",
   "version": "3.8.8"
  }
 },
 "nbformat": 4,
 "nbformat_minor": 5
}
